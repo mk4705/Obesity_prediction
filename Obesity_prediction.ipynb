{
 "cells": [
  {
   "cell_type": "code",
   "execution_count": 1,
   "id": "edb137df",
   "metadata": {},
   "outputs": [],
   "source": [
    "import pandas as pd  \n",
    "import numpy as np \n",
    "from sklearn.ensemble import RandomForestClassifier  \n",
    "from sklearn.model_selection import train_test_split  \n",
    "from sklearn.metrics import accuracy_score, classification_report, confusion_matrix  \n",
    "import matplotlib.pyplot as plt  \n",
    "# required libraries are imported "
   ]
  },
  {
   "cell_type": "code",
   "execution_count": 2,
   "id": "7ccb4a40",
   "metadata": {},
   "outputs": [],
   "source": [
    "data = pd.read_csv('Obesity prediction.csv')"
   ]
  },
  {
   "cell_type": "code",
   "execution_count": 3,
   "id": "15b306b8",
   "metadata": {},
   "outputs": [
    {
     "name": "stdout",
     "output_type": "stream",
     "text": [
      " Dataset overview:\n",
      "<class 'pandas.core.frame.DataFrame'>\n",
      "RangeIndex: 2111 entries, 0 to 2110\n",
      "Data columns (total 17 columns):\n",
      " #   Column          Non-Null Count  Dtype  \n",
      "---  ------          --------------  -----  \n",
      " 0   Gender          2111 non-null   object \n",
      " 1   Age             2111 non-null   float64\n",
      " 2   Height          2111 non-null   float64\n",
      " 3   Weight          2111 non-null   float64\n",
      " 4   family_history  2111 non-null   object \n",
      " 5   FAVC            2111 non-null   object \n",
      " 6   FCVC            2111 non-null   float64\n",
      " 7   NCP             2111 non-null   float64\n",
      " 8   CAEC            2111 non-null   object \n",
      " 9   SMOKE           2111 non-null   object \n",
      " 10  CH2O            2111 non-null   float64\n",
      " 11  SCC             2111 non-null   object \n",
      " 12  FAF             2111 non-null   float64\n",
      " 13  TUE             2111 non-null   float64\n",
      " 14  CALC            2111 non-null   object \n",
      " 15  MTRANS          2111 non-null   object \n",
      " 16  Obesity         2111 non-null   object \n",
      "dtypes: float64(8), object(9)\n",
      "memory usage: 280.5+ KB\n",
      "None\n"
     ]
    }
   ],
   "source": [
    "print(\" Dataset overview:\")\n",
    "print(data.info()) \n",
    "# Summary of the dataset in printed"
   ]
  },
  {
   "cell_type": "code",
   "execution_count": 4,
   "id": "7603c7bd",
   "metadata": {},
   "outputs": [
    {
     "name": "stdout",
     "output_type": "stream",
     "text": [
      " First few rows of the dataset:\n",
      "   Gender   Age  Height  Weight family_history FAVC  FCVC  NCP       CAEC  \\\n",
      "0  Female  21.0    1.62    64.0            yes   no   2.0  3.0  Sometimes   \n",
      "1  Female  21.0    1.52    56.0            yes   no   3.0  3.0  Sometimes   \n",
      "2    Male  23.0    1.80    77.0            yes   no   2.0  3.0  Sometimes   \n",
      "3    Male  27.0    1.80    87.0             no   no   3.0  3.0  Sometimes   \n",
      "4    Male  22.0    1.78    89.8             no   no   2.0  1.0  Sometimes   \n",
      "\n",
      "  SMOKE  CH2O  SCC  FAF  TUE        CALC                 MTRANS  \\\n",
      "0    no   2.0   no  0.0  1.0          no  Public_Transportation   \n",
      "1   yes   3.0  yes  3.0  0.0   Sometimes  Public_Transportation   \n",
      "2    no   2.0   no  2.0  1.0  Frequently  Public_Transportation   \n",
      "3    no   2.0   no  2.0  0.0  Frequently                Walking   \n",
      "4    no   2.0   no  0.0  0.0   Sometimes  Public_Transportation   \n",
      "\n",
      "               Obesity  \n",
      "0        Normal_Weight  \n",
      "1        Normal_Weight  \n",
      "2        Normal_Weight  \n",
      "3   Overweight_Level_I  \n",
      "4  Overweight_Level_II  \n"
     ]
    }
   ],
   "source": [
    "print(\" First few rows of the dataset:\")\n",
    "print(data.head())"
   ]
  },
  {
   "cell_type": "code",
   "execution_count": 5,
   "id": "4945b339",
   "metadata": {},
   "outputs": [
    {
     "name": "stdout",
     "output_type": "stream",
     "text": [
      " No missing values detected\n"
     ]
    }
   ],
   "source": [
    "if data.isnull().sum().any():\n",
    "    print(\" Missing values found. Filling them with median values\")\n",
    "    data.fillna(data.median(), inplace=True)  # If any missing values are found,it's replaced with median values\n",
    "else:\n",
    "    print(\" No missing values detected\")"
   ]
  },
  {
   "cell_type": "code",
   "execution_count": 6,
   "id": "3fd97e09",
   "metadata": {},
   "outputs": [],
   "source": [
    "data = pd.get_dummies(data, drop_first=True)\n",
    "#This function performs one-hot-encoding on categorical variables,converting them into a binary format"
   ]
  },
  {
   "cell_type": "code",
   "execution_count": 7,
   "id": "e3545cf2",
   "metadata": {
    "scrolled": true
   },
   "outputs": [],
   "source": [
    "target_columns = ['Obesity_Normal_Weight', \n",
    "                  'Obesity_Obesity_Type_I', \n",
    "                  'Obesity_Obesity_Type_II', \n",
    "                  'Obesity_Obesity_Type_III', \n",
    "                  'Obesity_Overweight_Level_I', \n",
    "                  'Obesity_Overweight_Level_II']\n",
    "X = data.drop(columns=target_columns)\n",
    "y = data[target_columns]\n",
    "# X provides the input data for training the model.\n",
    "# y provides the expected output (obesity levels) that the model learns to predict."
   ]
  },
  {
   "cell_type": "code",
   "execution_count": 8,
   "id": "0de3faac",
   "metadata": {},
   "outputs": [],
   "source": [
    "X_train, X_test, y_train, y_test = train_test_split(X, y, test_size=0.2, random_state=0)\n",
    "# This splits the dataset into 80% for training and 20% for testing"
   ]
  },
  {
   "cell_type": "code",
   "execution_count": 9,
   "id": "c726f260",
   "metadata": {},
   "outputs": [
    {
     "data": {
      "text/plain": [
       "RandomForestClassifier(max_depth=10, n_estimators=150, random_state=0)"
      ]
     },
     "execution_count": 9,
     "metadata": {},
     "output_type": "execute_result"
    }
   ],
   "source": [
    "model = RandomForestClassifier(n_estimators=150, random_state=0, max_depth=10) \n",
    "model.fit(X_train, y_train)\n",
    "# Random Forest model is trained with 150 trees and maximum depth of 10"
   ]
  },
  {
   "cell_type": "code",
   "execution_count": 10,
   "id": "99cc0f9d",
   "metadata": {},
   "outputs": [],
   "source": [
    "predictions = model.predict(X_test)\n",
    "# Predictions are made on the test set"
   ]
  },
  {
   "cell_type": "code",
   "execution_count": 11,
   "id": "7fc590e0",
   "metadata": {},
   "outputs": [
    {
     "name": "stdout",
     "output_type": "stream",
     "text": [
      "Evaluation Metrics:\n",
      "Accuracy: 0.86\n",
      "\n",
      "Classification Report:\n",
      "              precision    recall  f1-score   support\n",
      "\n",
      "           0       0.85      0.79      0.82        57\n",
      "           1       1.00      0.91      0.95        67\n",
      "           2       1.00      0.98      0.99        53\n",
      "           3       1.00      1.00      1.00        69\n",
      "           4       0.98      0.70      0.82        57\n",
      "           5       1.00      0.65      0.79        55\n",
      "\n",
      "   micro avg       0.97      0.85      0.90       358\n",
      "   macro avg       0.97      0.84      0.89       358\n",
      "weighted avg       0.97      0.85      0.90       358\n",
      " samples avg       0.98      0.87      0.86       358\n",
      "\n",
      "\n",
      "Confusion Matrix:\n",
      "[[122   0   0   0   0   0]\n",
      " [  6  61   0   0   0   0]\n",
      " [  1   0  52   0   0   0]\n",
      " [  0   0   0  69   0   0]\n",
      " [ 17   0   0   0  40   0]\n",
      " [ 18   0   0   0   1  36]]\n"
     ]
    }
   ],
   "source": [
    "print(\"Evaluation Metrics:\")\n",
    "print(f\"Accuracy: {accuracy_score(y_test, predictions):.2f}\")\n",
    "# accuracy of the model is calculated\n",
    "\n",
    "print(\"\\nClassification Report:\")\n",
    "print(classification_report(y_test, predictions,zero_division=1))\n",
    "# detailed classification report including precision, recall, F1-score and support is displayed\n",
    "\n",
    "# one-hot encoded target values and predictions are converted into single labels by selecting the index of the maximum value\n",
    "y_test_single = np.argmax(y_test.values, axis=1) \n",
    "predictions_single = np.argmax(predictions, axis=1)\n",
    "\n",
    "print(\"\\nConfusion Matrix:\")\n",
    "print(confusion_matrix(y_test_single, predictions_single))\n",
    "# confusion matrix is generated"
   ]
  },
  {
   "cell_type": "code",
   "execution_count": 12,
   "id": "bd0cdcad",
   "metadata": {},
   "outputs": [
    {
     "name": "stdout",
     "output_type": "stream",
     "text": [
      "Analyzing feature importance\n",
      "\n",
      "Top factors influencing obesity levels:\n",
      "       Feature  Importance\n",
      "2       Weight    0.299077\n",
      "0          Age    0.099770\n",
      "3         FCVC    0.094860\n",
      "1       Height    0.094545\n",
      "8  Gender_Male    0.060024\n"
     ]
    },
    {
     "data": {
      "image/png": "[encoded data removed]",
      "text/plain": [
       "<Figure size 576x432 with 1 Axes>"
      ]
     },
     "metadata": {
      "needs_background": "light"
     },
     "output_type": "display_data"
    }
   ],
   "source": [
    "print(\"Analyzing feature importance\")\n",
    "feature_importances = pd.DataFrame({'Feature': X.columns,'Importance': model.feature_importances_}).sort_values(by='Importance', ascending=False)\n",
    "\n",
    "print(\"\\nTop factors influencing obesity levels:\")\n",
    "print(feature_importances.head())\n",
    "\n",
    "\n",
    "plt.figure(figsize=(8, 6))\n",
    "plt.barh(feature_importances['Feature'], feature_importances['Importance'], color='lightblue')\n",
    "plt.xlabel('Importance Score')\n",
    "plt.ylabel('Features')\n",
    "plt.title('Feature Importance in Obesity Analysis')\n",
    "plt.gca().invert_yaxis()\n",
    "plt.show()\n",
    "# Visualization of feature importance is done and the top factors influencing obesity level is displayed "
   ]
  }
 ],
 "metadata": {
  "kernelspec": {
   "display_name": "Python 3 (ipykernel)",
   "language": "python",
   "name": "python3"
  },
  "language_info": {
   "codemirror_mode": {
    "name": "ipython",
    "version": 3
   },
   "file_extension": ".py",
   "mimetype": "text/x-python",
   "name": "python",
   "nbconvert_exporter": "python",
   "pygments_lexer": "ipython3",
   "version": "3.9.7"
  }
 },
 "nbformat": 4,
 "nbformat_minor": 5
}
